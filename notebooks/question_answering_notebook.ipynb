{
 "cells": [
  {
   "cell_type": "code",
   "execution_count": 1,
   "metadata": {},
   "outputs": [
    {
     "name": "stderr",
     "output_type": "stream",
     "text": [
      "d:\\question-answering-using-llm\\env\\lib\\site-packages\\pinecone\\index.py:4: TqdmWarning: IProgress not found. Please update jupyter and ipywidgets. See https://ipywidgets.readthedocs.io/en/stable/user_install.html\n",
      "  from tqdm.autonotebook import tqdm\n"
     ]
    }
   ],
   "source": [
    "import os\n",
    "import openai\n",
    "import pinecone\n",
    "from langchain.document_loaders import DirectoryLoader\n",
    "from langchain.text_splitter import RecursiveCharacterTextSplitter\n",
    "from langchain.embeddings.openai import OpenAIEmbeddings\n",
    "from langchain.vectorstores import Pinecone\n",
    "from langchain.llms import OpenAI\n",
    "from langchain.chains.question_answering import load_qa_chain\n",
    "from dotenv import load_dotenv, find_dotenv\n",
    "\n",
    "_ = load_dotenv(find_dotenv())\n"
   ]
  },
  {
   "cell_type": "code",
   "execution_count": 2,
   "metadata": {},
   "outputs": [],
   "source": [
    "OPENAI_API_VERSION = '0.28.0'"
   ]
  },
  {
   "cell_type": "code",
   "execution_count": 11,
   "metadata": {},
   "outputs": [
    {
     "name": "stderr",
     "output_type": "stream",
     "text": [
      "100%|██████████| 1/1 [00:02<00:00,  2.08s/it]\n"
     ]
    },
    {
     "data": {
      "text/plain": [
       "1"
      ]
     },
     "execution_count": 11,
     "metadata": {},
     "output_type": "execute_result"
    }
   ],
   "source": [
    "directory = 'D:/question-answering-using-llm/data/'   #keep multiple files (.txt, .pdf) in data folder.\n",
    "# glob_dir = '**/*.pdf'\n",
    "\n",
    "def load_docs(directory):\n",
    "  loader = DirectoryLoader(path=directory, show_progress=True)\n",
    "  documents = loader.load()\n",
    "  return documents\n",
    "\n",
    "documents = load_docs(directory)\n",
    "len(documents)"
   ]
  },
  {
   "cell_type": "code",
   "execution_count": 48,
   "metadata": {},
   "outputs": [
    {
     "name": "stdout",
     "output_type": "stream",
     "text": [
      "842\n"
     ]
    }
   ],
   "source": [
    "def split_docs(documents, chunk_size=1000, chunk_overlap=0):\n",
    "  text_splitter = RecursiveCharacterTextSplitter(chunk_size=chunk_size, chunk_overlap=chunk_overlap)\n",
    "  docs = text_splitter.split_documents(documents)\n",
    "  return docs\n",
    "\n",
    "docs = split_docs(documents)\n",
    "print(len(docs))"
   ]
  },
  {
   "cell_type": "code",
   "execution_count": 49,
   "metadata": {},
   "outputs": [
    {
     "data": {
      "text/plain": [
       "Document(page_content='Data Science Projects with Python second edition\\n\\nA case study approach to gaining valuable insights\\n\\nfrom real data with machine learning\\n\\nStephen Klosterman\\n\\nData Science Projects with Python second edition\\n\\nCopyright © 2021 Packt Publishing\\n\\nAll rights reserved. No part of this course may be reproduced, stored in a retrieval system, or transmitted in any form or by any means, without the prior written permission of the publisher, except in the case of brief quotations embedded in critical articles or reviews.\\n\\nEvery effort has been made in the preparation of this course to ensure the accuracy of the information presented. However, the information contained in this course is sold without warranty, either express or implied. Neither the author nor Packt Publishing, and its dealers and distributors will be held liable for any damages caused or alleged to be caused directly or indirectly by this course.', metadata={'source': 'D:\\\\question-answering-using-llm\\\\data\\\\data_science_proj_python.pdf'})"
      ]
     },
     "execution_count": 49,
     "metadata": {},
     "output_type": "execute_result"
    }
   ],
   "source": [
    "docs[0]"
   ]
  },
  {
   "cell_type": "code",
   "execution_count": 50,
   "metadata": {},
   "outputs": [],
   "source": [
    "embeddings = OpenAIEmbeddings(openai_api_key=OPENAI_API_KEY)"
   ]
  },
  {
   "cell_type": "code",
   "execution_count": 51,
   "metadata": {},
   "outputs": [],
   "source": [
    "import pinecone      \n",
    "\n",
    "pinecone.init(      \n",
    "\tapi_key=PINECONE_API_KEY,      \n",
    "\tenvironment='gcp-starter'      \n",
    ")\n",
    "\n",
    "\n",
    "index_name = \"question-index\"\n",
    "\n"
   ]
  },
  {
   "cell_type": "code",
   "execution_count": 52,
   "metadata": {},
   "outputs": [],
   "source": [
    "pinecone.create_index(name=index_name, dimension=1536,\n",
    "                          metric=\"cosine\", pods=1)\n",
    "\n",
    "\n",
    "\n"
   ]
  },
  {
   "cell_type": "code",
   "execution_count": 61,
   "metadata": {},
   "outputs": [
    {
     "data": {
      "text/plain": [
       "langchain.vectorstores.pinecone.Pinecone"
      ]
     },
     "execution_count": 61,
     "metadata": {},
     "output_type": "execute_result"
    }
   ],
   "source": [
    "docsearch = Pinecone.from_texts(texts=[d.page_content for d in docs], embedding=embeddings, index_name='question-index')\n",
    "\n",
    "type(docsearch)"
   ]
  },
  {
   "cell_type": "code",
   "execution_count": 54,
   "metadata": {},
   "outputs": [
    {
     "data": {
      "text/plain": [
       "842"
      ]
     },
     "execution_count": 54,
     "metadata": {},
     "output_type": "execute_result"
    }
   ],
   "source": [
    "texts=[d.page_content for d in docs]\n",
    "\n",
    "len(texts)"
   ]
  },
  {
   "cell_type": "code",
   "execution_count": 55,
   "metadata": {},
   "outputs": [],
   "source": [
    "def get_similiar_docs(query, k=2):  # we can control k value to get no. of context with rem./ mb\n",
    "  return similar_docs"
   ]
  },
  {
   "cell_type": "code",
   "execution_count": 56,
   "metadata": {},
   "outputs": [
    {
     "data": {
      "text/plain": [
       "'\\nYou can import pandas library by using the command \"import pandas\".'"
      ]
     },
     "execution_count": 56,
     "metadata": {},
     "output_type": "execute_result"
    }
   ],
   "source": [
    "from langchain.llms import OpenAI\n",
    "\n",
    "\n",
    "query = \"how to import pandas library?\"\n",
    "\n",
    "similar_docs = get_similiar_docs(query=query)\n",
    "\n",
    "llm = OpenAI(temperature=0, openai_api_key=OPENAI_API_KEY)\n",
    "\n",
    "chain = load_qa_chain(llm, chain_type=\"stuff\")\n",
    "\n",
    "chain.run(input_documents=similar_docs, question=query)"
   ]
  },
  {
   "cell_type": "code",
   "execution_count": null,
   "metadata": {},
   "outputs": [],
   "source": [
    "query = \"What is flow of control statements?\"\n",
    "\n",
    "similar_docs = get_similiar_docs(query=query)\n",
    "\n",
    "print(similar_docs)"
   ]
  },
  {
   "cell_type": "code",
   "execution_count": null,
   "metadata": {},
   "outputs": [],
   "source": []
  },
  {
   "cell_type": "code",
   "execution_count": 20,
   "metadata": {},
   "outputs": [],
   "source": [
    "from langchain.llms import AzureOpenAI\n",
    "\n",
    "model_name = \"text-davinci-003\"\n",
    "\n",
    "llm = AzureOpenAI(model_name=model_name, openai_api_version=OPENAI_API_VERSION)\n",
    "\n",
    "chain = load_qa_chain(llm, chain_type=\"stuff\") #we can use map_reduce chain_type also.\n",
    "\n",
    "def get_answer(query):\n",
    "  similar_docs = get_similiar_docs(query)\n",
    "  print(similar_docs)\n",
    "  answer = chain.run(input_documents=similar_docs, question=query)\n",
    "  return answer"
   ]
  },
  {
   "cell_type": "code",
   "execution_count": 21,
   "metadata": {},
   "outputs": [
    {
     "name": "stdout",
     "output_type": "stream",
     "text": [
      "[]\n"
     ]
    },
    {
     "ename": "InvalidRequestError",
     "evalue": "Invalid URL (POST /v1/openai/deployments/completions)",
     "output_type": "error",
     "traceback": [
      "\u001b[1;31m---------------------------------------------------------------------------\u001b[0m",
      "\u001b[1;31mInvalidRequestError\u001b[0m                       Traceback (most recent call last)",
      "\u001b[1;32md:\\question-answering-using-llm\\notebooks\\question_answering_notebook.ipynb Cell 16\u001b[0m line \u001b[0;36m2\n\u001b[0;32m      <a href='vscode-notebook-cell:/d%3A/question-answering-using-llm/notebooks/question_answering_notebook.ipynb#X10sZmlsZQ%3D%3D?line=0'>1</a>\u001b[0m query \u001b[39m=\u001b[39m \u001b[39m\"\u001b[39m\u001b[39mWhat are examples of good data science teams?\u001b[39m\u001b[39m\"\u001b[39m\n\u001b[1;32m----> <a href='vscode-notebook-cell:/d%3A/question-answering-using-llm/notebooks/question_answering_notebook.ipynb#X10sZmlsZQ%3D%3D?line=1'>2</a>\u001b[0m answer \u001b[39m=\u001b[39m get_answer(query)\n\u001b[0;32m      <a href='vscode-notebook-cell:/d%3A/question-answering-using-llm/notebooks/question_answering_notebook.ipynb#X10sZmlsZQ%3D%3D?line=2'>3</a>\u001b[0m \u001b[39mprint\u001b[39m(answer)\n",
      "\u001b[1;32md:\\question-answering-using-llm\\notebooks\\question_answering_notebook.ipynb Cell 16\u001b[0m line \u001b[0;36m1\n\u001b[0;32m     <a href='vscode-notebook-cell:/d%3A/question-answering-using-llm/notebooks/question_answering_notebook.ipynb#X10sZmlsZQ%3D%3D?line=9'>10</a>\u001b[0m similar_docs \u001b[39m=\u001b[39m get_similiar_docs(query)\n\u001b[0;32m     <a href='vscode-notebook-cell:/d%3A/question-answering-using-llm/notebooks/question_answering_notebook.ipynb#X10sZmlsZQ%3D%3D?line=10'>11</a>\u001b[0m \u001b[39mprint\u001b[39m(similar_docs)\n\u001b[1;32m---> <a href='vscode-notebook-cell:/d%3A/question-answering-using-llm/notebooks/question_answering_notebook.ipynb#X10sZmlsZQ%3D%3D?line=11'>12</a>\u001b[0m answer \u001b[39m=\u001b[39m chain\u001b[39m.\u001b[39;49mrun(input_documents\u001b[39m=\u001b[39;49msimilar_docs, question\u001b[39m=\u001b[39;49mquery)\n\u001b[0;32m     <a href='vscode-notebook-cell:/d%3A/question-answering-using-llm/notebooks/question_answering_notebook.ipynb#X10sZmlsZQ%3D%3D?line=12'>13</a>\u001b[0m \u001b[39mreturn\u001b[39;00m answer\n",
      "File \u001b[1;32md:\\question-answering-using-llm\\env\\lib\\site-packages\\langchain\\chains\\base.py:492\u001b[0m, in \u001b[0;36mChain.run\u001b[1;34m(self, callbacks, tags, metadata, *args, **kwargs)\u001b[0m\n\u001b[0;32m    487\u001b[0m     \u001b[39mreturn\u001b[39;00m \u001b[39mself\u001b[39m(args[\u001b[39m0\u001b[39m], callbacks\u001b[39m=\u001b[39mcallbacks, tags\u001b[39m=\u001b[39mtags, metadata\u001b[39m=\u001b[39mmetadata)[\n\u001b[0;32m    488\u001b[0m         _output_key\n\u001b[0;32m    489\u001b[0m     ]\n\u001b[0;32m    491\u001b[0m \u001b[39mif\u001b[39;00m kwargs \u001b[39mand\u001b[39;00m \u001b[39mnot\u001b[39;00m args:\n\u001b[1;32m--> 492\u001b[0m     \u001b[39mreturn\u001b[39;00m \u001b[39mself\u001b[39;49m(kwargs, callbacks\u001b[39m=\u001b[39;49mcallbacks, tags\u001b[39m=\u001b[39;49mtags, metadata\u001b[39m=\u001b[39;49mmetadata)[\n\u001b[0;32m    493\u001b[0m         _output_key\n\u001b[0;32m    494\u001b[0m     ]\n\u001b[0;32m    496\u001b[0m \u001b[39mif\u001b[39;00m \u001b[39mnot\u001b[39;00m kwargs \u001b[39mand\u001b[39;00m \u001b[39mnot\u001b[39;00m args:\n\u001b[0;32m    497\u001b[0m     \u001b[39mraise\u001b[39;00m \u001b[39mValueError\u001b[39;00m(\n\u001b[0;32m    498\u001b[0m         \u001b[39m\"\u001b[39m\u001b[39m`run` supported with either positional arguments or keyword arguments,\u001b[39m\u001b[39m\"\u001b[39m\n\u001b[0;32m    499\u001b[0m         \u001b[39m\"\u001b[39m\u001b[39m but none were provided.\u001b[39m\u001b[39m\"\u001b[39m\n\u001b[0;32m    500\u001b[0m     )\n",
      "File \u001b[1;32md:\\question-answering-using-llm\\env\\lib\\site-packages\\langchain\\chains\\base.py:292\u001b[0m, in \u001b[0;36mChain.__call__\u001b[1;34m(self, inputs, return_only_outputs, callbacks, tags, metadata, run_name, include_run_info)\u001b[0m\n\u001b[0;32m    290\u001b[0m \u001b[39mexcept\u001b[39;00m (\u001b[39mKeyboardInterrupt\u001b[39;00m, \u001b[39mException\u001b[39;00m) \u001b[39mas\u001b[39;00m e:\n\u001b[0;32m    291\u001b[0m     run_manager\u001b[39m.\u001b[39mon_chain_error(e)\n\u001b[1;32m--> 292\u001b[0m     \u001b[39mraise\u001b[39;00m e\n\u001b[0;32m    293\u001b[0m run_manager\u001b[39m.\u001b[39mon_chain_end(outputs)\n\u001b[0;32m    294\u001b[0m final_outputs: Dict[\u001b[39mstr\u001b[39m, Any] \u001b[39m=\u001b[39m \u001b[39mself\u001b[39m\u001b[39m.\u001b[39mprep_outputs(\n\u001b[0;32m    295\u001b[0m     inputs, outputs, return_only_outputs\n\u001b[0;32m    296\u001b[0m )\n",
      "File \u001b[1;32md:\\question-answering-using-llm\\env\\lib\\site-packages\\langchain\\chains\\base.py:286\u001b[0m, in \u001b[0;36mChain.__call__\u001b[1;34m(self, inputs, return_only_outputs, callbacks, tags, metadata, run_name, include_run_info)\u001b[0m\n\u001b[0;32m    279\u001b[0m run_manager \u001b[39m=\u001b[39m callback_manager\u001b[39m.\u001b[39mon_chain_start(\n\u001b[0;32m    280\u001b[0m     dumpd(\u001b[39mself\u001b[39m),\n\u001b[0;32m    281\u001b[0m     inputs,\n\u001b[0;32m    282\u001b[0m     name\u001b[39m=\u001b[39mrun_name,\n\u001b[0;32m    283\u001b[0m )\n\u001b[0;32m    284\u001b[0m \u001b[39mtry\u001b[39;00m:\n\u001b[0;32m    285\u001b[0m     outputs \u001b[39m=\u001b[39m (\n\u001b[1;32m--> 286\u001b[0m         \u001b[39mself\u001b[39;49m\u001b[39m.\u001b[39;49m_call(inputs, run_manager\u001b[39m=\u001b[39;49mrun_manager)\n\u001b[0;32m    287\u001b[0m         \u001b[39mif\u001b[39;00m new_arg_supported\n\u001b[0;32m    288\u001b[0m         \u001b[39melse\u001b[39;00m \u001b[39mself\u001b[39m\u001b[39m.\u001b[39m_call(inputs)\n\u001b[0;32m    289\u001b[0m     )\n\u001b[0;32m    290\u001b[0m \u001b[39mexcept\u001b[39;00m (\u001b[39mKeyboardInterrupt\u001b[39;00m, \u001b[39mException\u001b[39;00m) \u001b[39mas\u001b[39;00m e:\n\u001b[0;32m    291\u001b[0m     run_manager\u001b[39m.\u001b[39mon_chain_error(e)\n",
      "File \u001b[1;32md:\\question-answering-using-llm\\env\\lib\\site-packages\\langchain\\chains\\combine_documents\\base.py:105\u001b[0m, in \u001b[0;36mBaseCombineDocumentsChain._call\u001b[1;34m(self, inputs, run_manager)\u001b[0m\n\u001b[0;32m    103\u001b[0m \u001b[39m# Other keys are assumed to be needed for LLM prediction\u001b[39;00m\n\u001b[0;32m    104\u001b[0m other_keys \u001b[39m=\u001b[39m {k: v \u001b[39mfor\u001b[39;00m k, v \u001b[39min\u001b[39;00m inputs\u001b[39m.\u001b[39mitems() \u001b[39mif\u001b[39;00m k \u001b[39m!=\u001b[39m \u001b[39mself\u001b[39m\u001b[39m.\u001b[39minput_key}\n\u001b[1;32m--> 105\u001b[0m output, extra_return_dict \u001b[39m=\u001b[39m \u001b[39mself\u001b[39m\u001b[39m.\u001b[39mcombine_docs(\n\u001b[0;32m    106\u001b[0m     docs, callbacks\u001b[39m=\u001b[39m_run_manager\u001b[39m.\u001b[39mget_child(), \u001b[39m*\u001b[39m\u001b[39m*\u001b[39mother_keys\n\u001b[0;32m    107\u001b[0m )\n\u001b[0;32m    108\u001b[0m extra_return_dict[\u001b[39mself\u001b[39m\u001b[39m.\u001b[39moutput_key] \u001b[39m=\u001b[39m output\n\u001b[0;32m    109\u001b[0m \u001b[39mreturn\u001b[39;00m extra_return_dict\n",
      "File \u001b[1;32md:\\question-answering-using-llm\\env\\lib\\site-packages\\langchain\\chains\\combine_documents\\stuff.py:171\u001b[0m, in \u001b[0;36mStuffDocumentsChain.combine_docs\u001b[1;34m(self, docs, callbacks, **kwargs)\u001b[0m\n\u001b[0;32m    169\u001b[0m inputs \u001b[39m=\u001b[39m \u001b[39mself\u001b[39m\u001b[39m.\u001b[39m_get_inputs(docs, \u001b[39m*\u001b[39m\u001b[39m*\u001b[39mkwargs)\n\u001b[0;32m    170\u001b[0m \u001b[39m# Call predict on the LLM.\u001b[39;00m\n\u001b[1;32m--> 171\u001b[0m \u001b[39mreturn\u001b[39;00m \u001b[39mself\u001b[39m\u001b[39m.\u001b[39mllm_chain\u001b[39m.\u001b[39mpredict(callbacks\u001b[39m=\u001b[39mcallbacks, \u001b[39m*\u001b[39m\u001b[39m*\u001b[39minputs), {}\n",
      "File \u001b[1;32md:\\question-answering-using-llm\\env\\lib\\site-packages\\langchain\\chains\\llm.py:255\u001b[0m, in \u001b[0;36mLLMChain.predict\u001b[1;34m(self, callbacks, **kwargs)\u001b[0m\n\u001b[0;32m    240\u001b[0m \u001b[39mdef\u001b[39;00m \u001b[39mpredict\u001b[39m(\u001b[39mself\u001b[39m, callbacks: Callbacks \u001b[39m=\u001b[39m \u001b[39mNone\u001b[39;00m, \u001b[39m*\u001b[39m\u001b[39m*\u001b[39mkwargs: Any) \u001b[39m-\u001b[39m\u001b[39m>\u001b[39m \u001b[39mstr\u001b[39m:\n\u001b[0;32m    241\u001b[0m \u001b[39m    \u001b[39m\u001b[39m\"\"\"Format prompt with kwargs and pass to LLM.\u001b[39;00m\n\u001b[0;32m    242\u001b[0m \n\u001b[0;32m    243\u001b[0m \u001b[39m    Args:\u001b[39;00m\n\u001b[1;32m   (...)\u001b[0m\n\u001b[0;32m    253\u001b[0m \u001b[39m            completion = llm.predict(adjective=\"funny\")\u001b[39;00m\n\u001b[0;32m    254\u001b[0m \u001b[39m    \"\"\"\u001b[39;00m\n\u001b[1;32m--> 255\u001b[0m     \u001b[39mreturn\u001b[39;00m \u001b[39mself\u001b[39;49m(kwargs, callbacks\u001b[39m=\u001b[39;49mcallbacks)[\u001b[39mself\u001b[39m\u001b[39m.\u001b[39moutput_key]\n",
      "File \u001b[1;32md:\\question-answering-using-llm\\env\\lib\\site-packages\\langchain\\chains\\base.py:292\u001b[0m, in \u001b[0;36mChain.__call__\u001b[1;34m(self, inputs, return_only_outputs, callbacks, tags, metadata, run_name, include_run_info)\u001b[0m\n\u001b[0;32m    290\u001b[0m \u001b[39mexcept\u001b[39;00m (\u001b[39mKeyboardInterrupt\u001b[39;00m, \u001b[39mException\u001b[39;00m) \u001b[39mas\u001b[39;00m e:\n\u001b[0;32m    291\u001b[0m     run_manager\u001b[39m.\u001b[39mon_chain_error(e)\n\u001b[1;32m--> 292\u001b[0m     \u001b[39mraise\u001b[39;00m e\n\u001b[0;32m    293\u001b[0m run_manager\u001b[39m.\u001b[39mon_chain_end(outputs)\n\u001b[0;32m    294\u001b[0m final_outputs: Dict[\u001b[39mstr\u001b[39m, Any] \u001b[39m=\u001b[39m \u001b[39mself\u001b[39m\u001b[39m.\u001b[39mprep_outputs(\n\u001b[0;32m    295\u001b[0m     inputs, outputs, return_only_outputs\n\u001b[0;32m    296\u001b[0m )\n",
      "File \u001b[1;32md:\\question-answering-using-llm\\env\\lib\\site-packages\\langchain\\chains\\base.py:286\u001b[0m, in \u001b[0;36mChain.__call__\u001b[1;34m(self, inputs, return_only_outputs, callbacks, tags, metadata, run_name, include_run_info)\u001b[0m\n\u001b[0;32m    279\u001b[0m run_manager \u001b[39m=\u001b[39m callback_manager\u001b[39m.\u001b[39mon_chain_start(\n\u001b[0;32m    280\u001b[0m     dumpd(\u001b[39mself\u001b[39m),\n\u001b[0;32m    281\u001b[0m     inputs,\n\u001b[0;32m    282\u001b[0m     name\u001b[39m=\u001b[39mrun_name,\n\u001b[0;32m    283\u001b[0m )\n\u001b[0;32m    284\u001b[0m \u001b[39mtry\u001b[39;00m:\n\u001b[0;32m    285\u001b[0m     outputs \u001b[39m=\u001b[39m (\n\u001b[1;32m--> 286\u001b[0m         \u001b[39mself\u001b[39;49m\u001b[39m.\u001b[39;49m_call(inputs, run_manager\u001b[39m=\u001b[39;49mrun_manager)\n\u001b[0;32m    287\u001b[0m         \u001b[39mif\u001b[39;00m new_arg_supported\n\u001b[0;32m    288\u001b[0m         \u001b[39melse\u001b[39;00m \u001b[39mself\u001b[39m\u001b[39m.\u001b[39m_call(inputs)\n\u001b[0;32m    289\u001b[0m     )\n\u001b[0;32m    290\u001b[0m \u001b[39mexcept\u001b[39;00m (\u001b[39mKeyboardInterrupt\u001b[39;00m, \u001b[39mException\u001b[39;00m) \u001b[39mas\u001b[39;00m e:\n\u001b[0;32m    291\u001b[0m     run_manager\u001b[39m.\u001b[39mon_chain_error(e)\n",
      "File \u001b[1;32md:\\question-answering-using-llm\\env\\lib\\site-packages\\langchain\\chains\\llm.py:91\u001b[0m, in \u001b[0;36mLLMChain._call\u001b[1;34m(self, inputs, run_manager)\u001b[0m\n\u001b[0;32m     86\u001b[0m \u001b[39mdef\u001b[39;00m \u001b[39m_call\u001b[39m(\n\u001b[0;32m     87\u001b[0m     \u001b[39mself\u001b[39m,\n\u001b[0;32m     88\u001b[0m     inputs: Dict[\u001b[39mstr\u001b[39m, Any],\n\u001b[0;32m     89\u001b[0m     run_manager: Optional[CallbackManagerForChainRun] \u001b[39m=\u001b[39m \u001b[39mNone\u001b[39;00m,\n\u001b[0;32m     90\u001b[0m ) \u001b[39m-\u001b[39m\u001b[39m>\u001b[39m Dict[\u001b[39mstr\u001b[39m, \u001b[39mstr\u001b[39m]:\n\u001b[1;32m---> 91\u001b[0m     response \u001b[39m=\u001b[39m \u001b[39mself\u001b[39;49m\u001b[39m.\u001b[39;49mgenerate([inputs], run_manager\u001b[39m=\u001b[39;49mrun_manager)\n\u001b[0;32m     92\u001b[0m     \u001b[39mreturn\u001b[39;00m \u001b[39mself\u001b[39m\u001b[39m.\u001b[39mcreate_outputs(response)[\u001b[39m0\u001b[39m]\n",
      "File \u001b[1;32md:\\question-answering-using-llm\\env\\lib\\site-packages\\langchain\\chains\\llm.py:101\u001b[0m, in \u001b[0;36mLLMChain.generate\u001b[1;34m(self, input_list, run_manager)\u001b[0m\n\u001b[0;32m     99\u001b[0m \u001b[39m\u001b[39m\u001b[39m\"\"\"Generate LLM result from inputs.\"\"\"\u001b[39;00m\n\u001b[0;32m    100\u001b[0m prompts, stop \u001b[39m=\u001b[39m \u001b[39mself\u001b[39m\u001b[39m.\u001b[39mprep_prompts(input_list, run_manager\u001b[39m=\u001b[39mrun_manager)\n\u001b[1;32m--> 101\u001b[0m \u001b[39mreturn\u001b[39;00m \u001b[39mself\u001b[39m\u001b[39m.\u001b[39mllm\u001b[39m.\u001b[39mgenerate_prompt(\n\u001b[0;32m    102\u001b[0m     prompts,\n\u001b[0;32m    103\u001b[0m     stop,\n\u001b[0;32m    104\u001b[0m     callbacks\u001b[39m=\u001b[39mrun_manager\u001b[39m.\u001b[39mget_child() \u001b[39mif\u001b[39;00m run_manager \u001b[39melse\u001b[39;00m \u001b[39mNone\u001b[39;00m,\n\u001b[0;32m    105\u001b[0m     \u001b[39m*\u001b[39m\u001b[39m*\u001b[39m\u001b[39mself\u001b[39m\u001b[39m.\u001b[39mllm_kwargs,\n\u001b[0;32m    106\u001b[0m )\n",
      "File \u001b[1;32md:\\question-answering-using-llm\\env\\lib\\site-packages\\langchain\\llms\\base.py:486\u001b[0m, in \u001b[0;36mBaseLLM.generate_prompt\u001b[1;34m(self, prompts, stop, callbacks, **kwargs)\u001b[0m\n\u001b[0;32m    478\u001b[0m \u001b[39mdef\u001b[39;00m \u001b[39mgenerate_prompt\u001b[39m(\n\u001b[0;32m    479\u001b[0m     \u001b[39mself\u001b[39m,\n\u001b[0;32m    480\u001b[0m     prompts: List[PromptValue],\n\u001b[1;32m   (...)\u001b[0m\n\u001b[0;32m    483\u001b[0m     \u001b[39m*\u001b[39m\u001b[39m*\u001b[39mkwargs: Any,\n\u001b[0;32m    484\u001b[0m ) \u001b[39m-\u001b[39m\u001b[39m>\u001b[39m LLMResult:\n\u001b[0;32m    485\u001b[0m     prompt_strings \u001b[39m=\u001b[39m [p\u001b[39m.\u001b[39mto_string() \u001b[39mfor\u001b[39;00m p \u001b[39min\u001b[39;00m prompts]\n\u001b[1;32m--> 486\u001b[0m     \u001b[39mreturn\u001b[39;00m \u001b[39mself\u001b[39m\u001b[39m.\u001b[39mgenerate(prompt_strings, stop\u001b[39m=\u001b[39mstop, callbacks\u001b[39m=\u001b[39mcallbacks, \u001b[39m*\u001b[39m\u001b[39m*\u001b[39mkwargs)\n",
      "File \u001b[1;32md:\\question-answering-using-llm\\env\\lib\\site-packages\\langchain\\llms\\base.py:621\u001b[0m, in \u001b[0;36mBaseLLM.generate\u001b[1;34m(self, prompts, stop, callbacks, tags, metadata, **kwargs)\u001b[0m\n\u001b[0;32m    612\u001b[0m         \u001b[39mraise\u001b[39;00m \u001b[39mValueError\u001b[39;00m(\n\u001b[0;32m    613\u001b[0m             \u001b[39m\"\u001b[39m\u001b[39mAsked to cache, but no cache found at `langchain.cache`.\u001b[39m\u001b[39m\"\u001b[39m\n\u001b[0;32m    614\u001b[0m         )\n\u001b[0;32m    615\u001b[0m     run_managers \u001b[39m=\u001b[39m [\n\u001b[0;32m    616\u001b[0m         callback_manager\u001b[39m.\u001b[39mon_llm_start(\n\u001b[0;32m    617\u001b[0m             dumpd(\u001b[39mself\u001b[39m), [prompt], invocation_params\u001b[39m=\u001b[39mparams, options\u001b[39m=\u001b[39moptions\n\u001b[0;32m    618\u001b[0m         )[\u001b[39m0\u001b[39m]\n\u001b[0;32m    619\u001b[0m         \u001b[39mfor\u001b[39;00m callback_manager, prompt \u001b[39min\u001b[39;00m \u001b[39mzip\u001b[39m(callback_managers, prompts)\n\u001b[0;32m    620\u001b[0m     ]\n\u001b[1;32m--> 621\u001b[0m     output \u001b[39m=\u001b[39m \u001b[39mself\u001b[39m\u001b[39m.\u001b[39m_generate_helper(\n\u001b[0;32m    622\u001b[0m         prompts, stop, run_managers, \u001b[39mbool\u001b[39m(new_arg_supported), \u001b[39m*\u001b[39m\u001b[39m*\u001b[39mkwargs\n\u001b[0;32m    623\u001b[0m     )\n\u001b[0;32m    624\u001b[0m     \u001b[39mreturn\u001b[39;00m output\n\u001b[0;32m    625\u001b[0m \u001b[39mif\u001b[39;00m \u001b[39mlen\u001b[39m(missing_prompts) \u001b[39m>\u001b[39m \u001b[39m0\u001b[39m:\n",
      "File \u001b[1;32md:\\question-answering-using-llm\\env\\lib\\site-packages\\langchain\\llms\\base.py:523\u001b[0m, in \u001b[0;36mBaseLLM._generate_helper\u001b[1;34m(self, prompts, stop, run_managers, new_arg_supported, **kwargs)\u001b[0m\n\u001b[0;32m    521\u001b[0m     \u001b[39mfor\u001b[39;00m run_manager \u001b[39min\u001b[39;00m run_managers:\n\u001b[0;32m    522\u001b[0m         run_manager\u001b[39m.\u001b[39mon_llm_error(e)\n\u001b[1;32m--> 523\u001b[0m     \u001b[39mraise\u001b[39;00m e\n\u001b[0;32m    524\u001b[0m flattened_outputs \u001b[39m=\u001b[39m output\u001b[39m.\u001b[39mflatten()\n\u001b[0;32m    525\u001b[0m \u001b[39mfor\u001b[39;00m manager, flattened_output \u001b[39min\u001b[39;00m \u001b[39mzip\u001b[39m(run_managers, flattened_outputs):\n",
      "File \u001b[1;32md:\\question-answering-using-llm\\env\\lib\\site-packages\\langchain\\llms\\base.py:510\u001b[0m, in \u001b[0;36mBaseLLM._generate_helper\u001b[1;34m(self, prompts, stop, run_managers, new_arg_supported, **kwargs)\u001b[0m\n\u001b[0;32m    500\u001b[0m \u001b[39mdef\u001b[39;00m \u001b[39m_generate_helper\u001b[39m(\n\u001b[0;32m    501\u001b[0m     \u001b[39mself\u001b[39m,\n\u001b[0;32m    502\u001b[0m     prompts: List[\u001b[39mstr\u001b[39m],\n\u001b[1;32m   (...)\u001b[0m\n\u001b[0;32m    506\u001b[0m     \u001b[39m*\u001b[39m\u001b[39m*\u001b[39mkwargs: Any,\n\u001b[0;32m    507\u001b[0m ) \u001b[39m-\u001b[39m\u001b[39m>\u001b[39m LLMResult:\n\u001b[0;32m    508\u001b[0m     \u001b[39mtry\u001b[39;00m:\n\u001b[0;32m    509\u001b[0m         output \u001b[39m=\u001b[39m (\n\u001b[1;32m--> 510\u001b[0m             \u001b[39mself\u001b[39m\u001b[39m.\u001b[39m_generate(\n\u001b[0;32m    511\u001b[0m                 prompts,\n\u001b[0;32m    512\u001b[0m                 stop\u001b[39m=\u001b[39mstop,\n\u001b[0;32m    513\u001b[0m                 \u001b[39m# TODO: support multiple run managers\u001b[39;00m\n\u001b[0;32m    514\u001b[0m                 run_manager\u001b[39m=\u001b[39mrun_managers[\u001b[39m0\u001b[39m] \u001b[39mif\u001b[39;00m run_managers \u001b[39melse\u001b[39;00m \u001b[39mNone\u001b[39;00m,\n\u001b[0;32m    515\u001b[0m                 \u001b[39m*\u001b[39m\u001b[39m*\u001b[39mkwargs,\n\u001b[0;32m    516\u001b[0m             )\n\u001b[0;32m    517\u001b[0m             \u001b[39mif\u001b[39;00m new_arg_supported\n\u001b[0;32m    518\u001b[0m             \u001b[39melse\u001b[39;00m \u001b[39mself\u001b[39m\u001b[39m.\u001b[39m_generate(prompts, stop\u001b[39m=\u001b[39mstop)\n\u001b[0;32m    519\u001b[0m         )\n\u001b[0;32m    520\u001b[0m     \u001b[39mexcept\u001b[39;00m (\u001b[39mKeyboardInterrupt\u001b[39;00m, \u001b[39mException\u001b[39;00m) \u001b[39mas\u001b[39;00m e:\n\u001b[0;32m    521\u001b[0m         \u001b[39mfor\u001b[39;00m run_manager \u001b[39min\u001b[39;00m run_managers:\n",
      "File \u001b[1;32md:\\question-answering-using-llm\\env\\lib\\site-packages\\langchain\\llms\\openai.py:385\u001b[0m, in \u001b[0;36mBaseOpenAI._generate\u001b[1;34m(self, prompts, stop, run_manager, **kwargs)\u001b[0m\n\u001b[0;32m    373\u001b[0m     choices\u001b[39m.\u001b[39mappend(\n\u001b[0;32m    374\u001b[0m         {\n\u001b[0;32m    375\u001b[0m             \u001b[39m\"\u001b[39m\u001b[39mtext\u001b[39m\u001b[39m\"\u001b[39m: generation\u001b[39m.\u001b[39mtext,\n\u001b[1;32m   (...)\u001b[0m\n\u001b[0;32m    382\u001b[0m         }\n\u001b[0;32m    383\u001b[0m     )\n\u001b[0;32m    384\u001b[0m \u001b[39melse\u001b[39;00m:\n\u001b[1;32m--> 385\u001b[0m     response \u001b[39m=\u001b[39m completion_with_retry(\n\u001b[0;32m    386\u001b[0m         \u001b[39mself\u001b[39m, prompt\u001b[39m=\u001b[39m_prompts, run_manager\u001b[39m=\u001b[39mrun_manager, \u001b[39m*\u001b[39m\u001b[39m*\u001b[39mparams\n\u001b[0;32m    387\u001b[0m     )\n\u001b[0;32m    388\u001b[0m     choices\u001b[39m.\u001b[39mextend(response[\u001b[39m\"\u001b[39m\u001b[39mchoices\u001b[39m\u001b[39m\"\u001b[39m])\n\u001b[0;32m    389\u001b[0m     update_token_usage(_keys, response, token_usage)\n",
      "File \u001b[1;32md:\\question-answering-using-llm\\env\\lib\\site-packages\\langchain\\llms\\openai.py:115\u001b[0m, in \u001b[0;36mcompletion_with_retry\u001b[1;34m(llm, run_manager, **kwargs)\u001b[0m\n\u001b[0;32m    111\u001b[0m \u001b[39m@retry_decorator\u001b[39m\n\u001b[0;32m    112\u001b[0m \u001b[39mdef\u001b[39;00m \u001b[39m_completion_with_retry\u001b[39m(\u001b[39m*\u001b[39m\u001b[39m*\u001b[39mkwargs: Any) \u001b[39m-\u001b[39m\u001b[39m>\u001b[39m Any:\n\u001b[0;32m    113\u001b[0m     \u001b[39mreturn\u001b[39;00m llm\u001b[39m.\u001b[39mclient\u001b[39m.\u001b[39mcreate(\u001b[39m*\u001b[39m\u001b[39m*\u001b[39mkwargs)\n\u001b[1;32m--> 115\u001b[0m \u001b[39mreturn\u001b[39;00m _completion_with_retry(\u001b[39m*\u001b[39m\u001b[39m*\u001b[39mkwargs)\n",
      "File \u001b[1;32md:\\question-answering-using-llm\\env\\lib\\site-packages\\tenacity\\__init__.py:289\u001b[0m, in \u001b[0;36mBaseRetrying.wraps.<locals>.wrapped_f\u001b[1;34m(*args, **kw)\u001b[0m\n\u001b[0;32m    287\u001b[0m \u001b[39m@functools\u001b[39m\u001b[39m.\u001b[39mwraps(f)\n\u001b[0;32m    288\u001b[0m \u001b[39mdef\u001b[39;00m \u001b[39mwrapped_f\u001b[39m(\u001b[39m*\u001b[39margs: t\u001b[39m.\u001b[39mAny, \u001b[39m*\u001b[39m\u001b[39m*\u001b[39mkw: t\u001b[39m.\u001b[39mAny) \u001b[39m-\u001b[39m\u001b[39m>\u001b[39m t\u001b[39m.\u001b[39mAny:\n\u001b[1;32m--> 289\u001b[0m     \u001b[39mreturn\u001b[39;00m \u001b[39mself\u001b[39m(f, \u001b[39m*\u001b[39margs, \u001b[39m*\u001b[39m\u001b[39m*\u001b[39mkw)\n",
      "File \u001b[1;32md:\\question-answering-using-llm\\env\\lib\\site-packages\\tenacity\\__init__.py:379\u001b[0m, in \u001b[0;36mRetrying.__call__\u001b[1;34m(self, fn, *args, **kwargs)\u001b[0m\n\u001b[0;32m    377\u001b[0m retry_state \u001b[39m=\u001b[39m RetryCallState(retry_object\u001b[39m=\u001b[39m\u001b[39mself\u001b[39m, fn\u001b[39m=\u001b[39mfn, args\u001b[39m=\u001b[39margs, kwargs\u001b[39m=\u001b[39mkwargs)\n\u001b[0;32m    378\u001b[0m \u001b[39mwhile\u001b[39;00m \u001b[39mTrue\u001b[39;00m:\n\u001b[1;32m--> 379\u001b[0m     do \u001b[39m=\u001b[39m \u001b[39mself\u001b[39;49m\u001b[39m.\u001b[39;49miter(retry_state\u001b[39m=\u001b[39;49mretry_state)\n\u001b[0;32m    380\u001b[0m     \u001b[39mif\u001b[39;00m \u001b[39misinstance\u001b[39m(do, DoAttempt):\n\u001b[0;32m    381\u001b[0m         \u001b[39mtry\u001b[39;00m:\n",
      "File \u001b[1;32md:\\question-answering-using-llm\\env\\lib\\site-packages\\tenacity\\__init__.py:314\u001b[0m, in \u001b[0;36mBaseRetrying.iter\u001b[1;34m(self, retry_state)\u001b[0m\n\u001b[0;32m    312\u001b[0m is_explicit_retry \u001b[39m=\u001b[39m fut\u001b[39m.\u001b[39mfailed \u001b[39mand\u001b[39;00m \u001b[39misinstance\u001b[39m(fut\u001b[39m.\u001b[39mexception(), TryAgain)\n\u001b[0;32m    313\u001b[0m \u001b[39mif\u001b[39;00m \u001b[39mnot\u001b[39;00m (is_explicit_retry \u001b[39mor\u001b[39;00m \u001b[39mself\u001b[39m\u001b[39m.\u001b[39mretry(retry_state)):\n\u001b[1;32m--> 314\u001b[0m     \u001b[39mreturn\u001b[39;00m fut\u001b[39m.\u001b[39;49mresult()\n\u001b[0;32m    316\u001b[0m \u001b[39mif\u001b[39;00m \u001b[39mself\u001b[39m\u001b[39m.\u001b[39mafter \u001b[39mis\u001b[39;00m \u001b[39mnot\u001b[39;00m \u001b[39mNone\u001b[39;00m:\n\u001b[0;32m    317\u001b[0m     \u001b[39mself\u001b[39m\u001b[39m.\u001b[39mafter(retry_state)\n",
      "File \u001b[1;32md:\\question-answering-using-llm\\env\\lib\\concurrent\\futures\\_base.py:438\u001b[0m, in \u001b[0;36mFuture.result\u001b[1;34m(self, timeout)\u001b[0m\n\u001b[0;32m    436\u001b[0m     \u001b[39mraise\u001b[39;00m CancelledError()\n\u001b[0;32m    437\u001b[0m \u001b[39melif\u001b[39;00m \u001b[39mself\u001b[39m\u001b[39m.\u001b[39m_state \u001b[39m==\u001b[39m FINISHED:\n\u001b[1;32m--> 438\u001b[0m     \u001b[39mreturn\u001b[39;00m \u001b[39mself\u001b[39;49m\u001b[39m.\u001b[39;49m__get_result()\n\u001b[0;32m    440\u001b[0m \u001b[39mself\u001b[39m\u001b[39m.\u001b[39m_condition\u001b[39m.\u001b[39mwait(timeout)\n\u001b[0;32m    442\u001b[0m \u001b[39mif\u001b[39;00m \u001b[39mself\u001b[39m\u001b[39m.\u001b[39m_state \u001b[39min\u001b[39;00m [CANCELLED, CANCELLED_AND_NOTIFIED]:\n",
      "File \u001b[1;32md:\\question-answering-using-llm\\env\\lib\\concurrent\\futures\\_base.py:390\u001b[0m, in \u001b[0;36mFuture.__get_result\u001b[1;34m(self)\u001b[0m\n\u001b[0;32m    388\u001b[0m \u001b[39mif\u001b[39;00m \u001b[39mself\u001b[39m\u001b[39m.\u001b[39m_exception:\n\u001b[0;32m    389\u001b[0m     \u001b[39mtry\u001b[39;00m:\n\u001b[1;32m--> 390\u001b[0m         \u001b[39mraise\u001b[39;00m \u001b[39mself\u001b[39m\u001b[39m.\u001b[39m_exception\n\u001b[0;32m    391\u001b[0m     \u001b[39mfinally\u001b[39;00m:\n\u001b[0;32m    392\u001b[0m         \u001b[39m# Break a reference cycle with the exception in self._exception\u001b[39;00m\n\u001b[0;32m    393\u001b[0m         \u001b[39mself\u001b[39m \u001b[39m=\u001b[39m \u001b[39mNone\u001b[39;00m\n",
      "File \u001b[1;32md:\\question-answering-using-llm\\env\\lib\\site-packages\\tenacity\\__init__.py:382\u001b[0m, in \u001b[0;36mRetrying.__call__\u001b[1;34m(self, fn, *args, **kwargs)\u001b[0m\n\u001b[0;32m    380\u001b[0m \u001b[39mif\u001b[39;00m \u001b[39misinstance\u001b[39m(do, DoAttempt):\n\u001b[0;32m    381\u001b[0m     \u001b[39mtry\u001b[39;00m:\n\u001b[1;32m--> 382\u001b[0m         result \u001b[39m=\u001b[39m fn(\u001b[39m*\u001b[39margs, \u001b[39m*\u001b[39m\u001b[39m*\u001b[39mkwargs)\n\u001b[0;32m    383\u001b[0m     \u001b[39mexcept\u001b[39;00m \u001b[39mBaseException\u001b[39;00m:  \u001b[39m# noqa: B902\u001b[39;00m\n\u001b[0;32m    384\u001b[0m         retry_state\u001b[39m.\u001b[39mset_exception(sys\u001b[39m.\u001b[39mexc_info())  \u001b[39m# type: ignore[arg-type]\u001b[39;00m\n",
      "File \u001b[1;32md:\\question-answering-using-llm\\env\\lib\\site-packages\\langchain\\llms\\openai.py:113\u001b[0m, in \u001b[0;36mcompletion_with_retry.<locals>._completion_with_retry\u001b[1;34m(**kwargs)\u001b[0m\n\u001b[0;32m    111\u001b[0m \u001b[39m@retry_decorator\u001b[39m\n\u001b[0;32m    112\u001b[0m \u001b[39mdef\u001b[39;00m \u001b[39m_completion_with_retry\u001b[39m(\u001b[39m*\u001b[39m\u001b[39m*\u001b[39mkwargs: Any) \u001b[39m-\u001b[39m\u001b[39m>\u001b[39m Any:\n\u001b[1;32m--> 113\u001b[0m     \u001b[39mreturn\u001b[39;00m llm\u001b[39m.\u001b[39mclient\u001b[39m.\u001b[39mcreate(\u001b[39m*\u001b[39m\u001b[39m*\u001b[39mkwargs)\n",
      "File \u001b[1;32md:\\question-answering-using-llm\\env\\lib\\site-packages\\openai\\api_resources\\completion.py:25\u001b[0m, in \u001b[0;36mCompletion.create\u001b[1;34m(cls, *args, **kwargs)\u001b[0m\n\u001b[0;32m     23\u001b[0m \u001b[39mwhile\u001b[39;00m \u001b[39mTrue\u001b[39;00m:\n\u001b[0;32m     24\u001b[0m     \u001b[39mtry\u001b[39;00m:\n\u001b[1;32m---> 25\u001b[0m         \u001b[39mreturn\u001b[39;00m \u001b[39msuper\u001b[39m()\u001b[39m.\u001b[39mcreate(\u001b[39m*\u001b[39margs, \u001b[39m*\u001b[39m\u001b[39m*\u001b[39mkwargs)\n\u001b[0;32m     26\u001b[0m     \u001b[39mexcept\u001b[39;00m TryAgain \u001b[39mas\u001b[39;00m e:\n\u001b[0;32m     27\u001b[0m         \u001b[39mif\u001b[39;00m timeout \u001b[39mis\u001b[39;00m \u001b[39mnot\u001b[39;00m \u001b[39mNone\u001b[39;00m \u001b[39mand\u001b[39;00m time\u001b[39m.\u001b[39mtime() \u001b[39m>\u001b[39m start \u001b[39m+\u001b[39m timeout:\n",
      "File \u001b[1;32md:\\question-answering-using-llm\\env\\lib\\site-packages\\openai\\api_resources\\abstract\\engine_api_resource.py:153\u001b[0m, in \u001b[0;36mEngineAPIResource.create\u001b[1;34m(cls, api_key, api_base, api_type, request_id, api_version, organization, **params)\u001b[0m\n\u001b[0;32m    127\u001b[0m \u001b[39m@classmethod\u001b[39m\n\u001b[0;32m    128\u001b[0m \u001b[39mdef\u001b[39;00m \u001b[39mcreate\u001b[39m(\n\u001b[0;32m    129\u001b[0m     \u001b[39mcls\u001b[39m,\n\u001b[1;32m   (...)\u001b[0m\n\u001b[0;32m    136\u001b[0m     \u001b[39m*\u001b[39m\u001b[39m*\u001b[39mparams,\n\u001b[0;32m    137\u001b[0m ):\n\u001b[0;32m    138\u001b[0m     (\n\u001b[0;32m    139\u001b[0m         deployment_id,\n\u001b[0;32m    140\u001b[0m         engine,\n\u001b[1;32m   (...)\u001b[0m\n\u001b[0;32m    150\u001b[0m         api_key, api_base, api_type, api_version, organization, \u001b[39m*\u001b[39m\u001b[39m*\u001b[39mparams\n\u001b[0;32m    151\u001b[0m     )\n\u001b[1;32m--> 153\u001b[0m     response, _, api_key \u001b[39m=\u001b[39m requestor\u001b[39m.\u001b[39;49mrequest(\n\u001b[0;32m    154\u001b[0m         \u001b[39m\"\u001b[39;49m\u001b[39mpost\u001b[39;49m\u001b[39m\"\u001b[39;49m,\n\u001b[0;32m    155\u001b[0m         url,\n\u001b[0;32m    156\u001b[0m         params\u001b[39m=\u001b[39;49mparams,\n\u001b[0;32m    157\u001b[0m         headers\u001b[39m=\u001b[39;49mheaders,\n\u001b[0;32m    158\u001b[0m         stream\u001b[39m=\u001b[39;49mstream,\n\u001b[0;32m    159\u001b[0m         request_id\u001b[39m=\u001b[39;49mrequest_id,\n\u001b[0;32m    160\u001b[0m         request_timeout\u001b[39m=\u001b[39;49mrequest_timeout,\n\u001b[0;32m    161\u001b[0m     )\n\u001b[0;32m    163\u001b[0m     \u001b[39mif\u001b[39;00m stream:\n\u001b[0;32m    164\u001b[0m         \u001b[39m# must be an iterator\u001b[39;00m\n\u001b[0;32m    165\u001b[0m         \u001b[39massert\u001b[39;00m \u001b[39mnot\u001b[39;00m \u001b[39misinstance\u001b[39m(response, OpenAIResponse)\n",
      "File \u001b[1;32md:\\question-answering-using-llm\\env\\lib\\site-packages\\openai\\api_requestor.py:298\u001b[0m, in \u001b[0;36mAPIRequestor.request\u001b[1;34m(self, method, url, params, headers, files, stream, request_id, request_timeout)\u001b[0m\n\u001b[0;32m    277\u001b[0m \u001b[39mdef\u001b[39;00m \u001b[39mrequest\u001b[39m(\n\u001b[0;32m    278\u001b[0m     \u001b[39mself\u001b[39m,\n\u001b[0;32m    279\u001b[0m     method,\n\u001b[1;32m   (...)\u001b[0m\n\u001b[0;32m    286\u001b[0m     request_timeout: Optional[Union[\u001b[39mfloat\u001b[39m, Tuple[\u001b[39mfloat\u001b[39m, \u001b[39mfloat\u001b[39m]]] \u001b[39m=\u001b[39m \u001b[39mNone\u001b[39;00m,\n\u001b[0;32m    287\u001b[0m ) \u001b[39m-\u001b[39m\u001b[39m>\u001b[39m Tuple[Union[OpenAIResponse, Iterator[OpenAIResponse]], \u001b[39mbool\u001b[39m, \u001b[39mstr\u001b[39m]:\n\u001b[0;32m    288\u001b[0m     result \u001b[39m=\u001b[39m \u001b[39mself\u001b[39m\u001b[39m.\u001b[39mrequest_raw(\n\u001b[0;32m    289\u001b[0m         method\u001b[39m.\u001b[39mlower(),\n\u001b[0;32m    290\u001b[0m         url,\n\u001b[1;32m   (...)\u001b[0m\n\u001b[0;32m    296\u001b[0m         request_timeout\u001b[39m=\u001b[39mrequest_timeout,\n\u001b[0;32m    297\u001b[0m     )\n\u001b[1;32m--> 298\u001b[0m     resp, got_stream \u001b[39m=\u001b[39m \u001b[39mself\u001b[39;49m\u001b[39m.\u001b[39;49m_interpret_response(result, stream)\n\u001b[0;32m    299\u001b[0m     \u001b[39mreturn\u001b[39;00m resp, got_stream, \u001b[39mself\u001b[39m\u001b[39m.\u001b[39mapi_key\n",
      "File \u001b[1;32md:\\question-answering-using-llm\\env\\lib\\site-packages\\openai\\api_requestor.py:700\u001b[0m, in \u001b[0;36mAPIRequestor._interpret_response\u001b[1;34m(self, result, stream)\u001b[0m\n\u001b[0;32m    692\u001b[0m     \u001b[39mreturn\u001b[39;00m (\n\u001b[0;32m    693\u001b[0m         \u001b[39mself\u001b[39m\u001b[39m.\u001b[39m_interpret_response_line(\n\u001b[0;32m    694\u001b[0m             line, result\u001b[39m.\u001b[39mstatus_code, result\u001b[39m.\u001b[39mheaders, stream\u001b[39m=\u001b[39m\u001b[39mTrue\u001b[39;00m\n\u001b[0;32m    695\u001b[0m         )\n\u001b[0;32m    696\u001b[0m         \u001b[39mfor\u001b[39;00m line \u001b[39min\u001b[39;00m parse_stream(result\u001b[39m.\u001b[39miter_lines())\n\u001b[0;32m    697\u001b[0m     ), \u001b[39mTrue\u001b[39;00m\n\u001b[0;32m    698\u001b[0m \u001b[39melse\u001b[39;00m:\n\u001b[0;32m    699\u001b[0m     \u001b[39mreturn\u001b[39;00m (\n\u001b[1;32m--> 700\u001b[0m         \u001b[39mself\u001b[39;49m\u001b[39m.\u001b[39;49m_interpret_response_line(\n\u001b[0;32m    701\u001b[0m             result\u001b[39m.\u001b[39;49mcontent\u001b[39m.\u001b[39;49mdecode(\u001b[39m\"\u001b[39;49m\u001b[39mutf-8\u001b[39;49m\u001b[39m\"\u001b[39;49m),\n\u001b[0;32m    702\u001b[0m             result\u001b[39m.\u001b[39;49mstatus_code,\n\u001b[0;32m    703\u001b[0m             result\u001b[39m.\u001b[39;49mheaders,\n\u001b[0;32m    704\u001b[0m             stream\u001b[39m=\u001b[39;49m\u001b[39mFalse\u001b[39;49;00m,\n\u001b[0;32m    705\u001b[0m         ),\n\u001b[0;32m    706\u001b[0m         \u001b[39mFalse\u001b[39;00m,\n\u001b[0;32m    707\u001b[0m     )\n",
      "File \u001b[1;32md:\\question-answering-using-llm\\env\\lib\\site-packages\\openai\\api_requestor.py:765\u001b[0m, in \u001b[0;36mAPIRequestor._interpret_response_line\u001b[1;34m(self, rbody, rcode, rheaders, stream)\u001b[0m\n\u001b[0;32m    763\u001b[0m stream_error \u001b[39m=\u001b[39m stream \u001b[39mand\u001b[39;00m \u001b[39m\"\u001b[39m\u001b[39merror\u001b[39m\u001b[39m\"\u001b[39m \u001b[39min\u001b[39;00m resp\u001b[39m.\u001b[39mdata\n\u001b[0;32m    764\u001b[0m \u001b[39mif\u001b[39;00m stream_error \u001b[39mor\u001b[39;00m \u001b[39mnot\u001b[39;00m \u001b[39m200\u001b[39m \u001b[39m<\u001b[39m\u001b[39m=\u001b[39m rcode \u001b[39m<\u001b[39m \u001b[39m300\u001b[39m:\n\u001b[1;32m--> 765\u001b[0m     \u001b[39mraise\u001b[39;00m \u001b[39mself\u001b[39m\u001b[39m.\u001b[39mhandle_error_response(\n\u001b[0;32m    766\u001b[0m         rbody, rcode, resp\u001b[39m.\u001b[39mdata, rheaders, stream_error\u001b[39m=\u001b[39mstream_error\n\u001b[0;32m    767\u001b[0m     )\n\u001b[0;32m    768\u001b[0m \u001b[39mreturn\u001b[39;00m resp\n",
      "\u001b[1;31mInvalidRequestError\u001b[0m: Invalid URL (POST /v1/openai/deployments/completions)"
     ]
    }
   ],
   "source": [
    "query = \"What are examples of good data science teams?\"\n",
    "answer = get_answer(query)\n",
    "print(answer)"
   ]
  },
  {
   "cell_type": "code",
   "execution_count": null,
   "metadata": {},
   "outputs": [],
   "source": []
  },
  {
   "cell_type": "code",
   "execution_count": 9,
   "metadata": {},
   "outputs": [
    {
     "name": "stderr",
     "output_type": "stream",
     "text": [
      "100%|██████████| 1/1 [00:02<00:00,  2.31s/it]\n"
     ]
    }
   ],
   "source": [
    "loader = DirectoryLoader(path=directory, show_progress=True)\n",
    "documents = loader.load_and_split(text_splitter=RecursiveCharacterTextSplitter(chunk_size=1000, chunk_overlap=0))"
   ]
  },
  {
   "cell_type": "code",
   "execution_count": 10,
   "metadata": {},
   "outputs": [
    {
     "data": {
      "text/plain": [
       "[Document(page_content=\"Stored Procedures\\n\\nA stored procedure is a prepared SQL code that you can save, so that code can be reused. So if you have an SQL query that you write again and again, save it as a stored procedure, and then just call it to execute it. You can also pass parameters to a stored procedure so it can act based on the parameter values that are passed.\\n\\nTo create stored procedures, follow the following steps: Create Database-\\n\\ncreate database players;\\n\\nUsing Database-\\n\\nuse players;\\n\\nCreate a table-\\n\\ncreate table players(player_id int primary key NOT NULL,player_name varchar(30),country varchar(25),goals int);\\n\\nCheck how many tables are present -\\n\\nshow tables;\\n\\nCheck the structure of the table -\\n\\ndesc players;\\n\\nCheck values are present in the players' table.\\n\\nselect * from players ;\\n\\nInsert values into the players table-\", metadata={'source': 'D:\\\\question-answering-using-llm\\\\data\\\\Stored_Procedures.pdf'}),\n",
       " Document(page_content='insert into players(player_id,player_name,country,goals) values(1,\"Rahul\",\"India\",10),(2,\"Raghav\",\"India\",6),(3,\"Varun\",\"in dia\",5),(4,\"Danny\",\"US\",8),(5,\"Alex\",\"US\",9),(6,\"Tim\",\"UK\",3),(7,\" Sachin\",\"India\",20);\\n\\nLet\\'s see how to create a stored procedure.\\n\\nWhen creating a stored procedure, you have to start with a delimiter. You can use & & or ## also. You have to give the stored procedure name in small letters. Example-\\n\\ndelimiter && create procedure top_player() begin select player_name , country , goals from players where goals > 6; end && delimiter ;\\n\\nHow to call a stored procedure ?\\n\\ncall top_player();\\n\\nResult-\\n\\nplayer_name\\n\\ncountry\\n\\ngoals\\n\\nRahul\\n\\nIndia\\n\\n10\\n\\nDanny\\n\\nUS\\n\\n8\\n\\nAlex\\n\\nUS\\n\\n9\\n\\nSachin\\n\\nIndia\\n\\n20', metadata={'source': 'D:\\\\question-answering-using-llm\\\\data\\\\Stored_Procedures.pdf'}),\n",
       " Document(page_content='stored procedures using IN and OUT. IN = Input, OUT = Output. An IN parameter passes a value into a procedure. The procedure might modify the value, but the modiﬁcation is not visible to the caller when the procedure returns. An OUT parameter passes a value from the procedure back to the caller. Its initial value is NULL within the procedure, and its value is visible to the caller when the procedure returns.\\n\\nLets create a procedure which returns the top players based on goals.\\n\\ndelimiter && create procedure top_players_sort_by_goals(IN var int) begin\\n\\nselect player_name ,country,goals from players order by goals desc limit var; end && delimiter ;\\n\\nCall procedure-\\n\\ncall top_players_sort_by_goals(3);\\n\\nResult-\\n\\nplayer_name\\n\\ncountry\\n\\ngoals\\n\\nSachin\\n\\nindia\\n\\n20\\n\\nRahul\\n\\nindia\\n\\n10\\n\\nAlex\\n\\nUS\\n\\n9\\n\\nUpdate operation using a stored procedure Create a stored procedure -', metadata={'source': 'D:\\\\question-answering-using-llm\\\\data\\\\Stored_Procedures.pdf'}),\n",
       " Document(page_content='DROP procedure IF EXISTS update_players; delimiter && create procedure update_players(IN num int, IN player varchar(20)) begin update players.players set goals = num where player_name = player; end && delimiter ;\\n\\nHere you are accepting the two parameters from the user.\\n\\ncall update_players(6,\"sachin\");\\n\\nCheck values are updated or not -\\n\\nselect * from players;\\n\\nResult-\\n\\nplayer_id\\n\\nplayer_name\\n\\ncountry\\n\\ngoals\\n\\n1\\n\\nRahul\\n\\nindia\\n\\n10\\n\\n2\\n\\nRaghav\\n\\nindia\\n\\n6\\n\\n3\\n\\nVarun\\n\\nindia\\n\\n5\\n\\n4\\n\\nDanny\\n\\nUS\\n\\n8\\n\\n5\\n\\nAlex\\n\\nUS\\n\\n9\\n\\n6\\n\\nTim\\n\\nUK\\n\\n3\\n\\n7\\n\\nSachin\\n\\nindia\\n\\n6\\n\\nstored procedures using OUT. Example-\\n\\nDROP procedure IF EXISTS player_count; delimiter && create procedure player_count( OUT total_player int ) begin select count(*) from players into total_player; end && delimiter ;\\n\\ncall player_count(@total_count);\\n\\nselect @total_count as total_count;\\n\\nResult-\\n\\ntotal_count\\n\\n7\\n\\nYou will get the total count of the players present in the table.', metadata={'source': 'D:\\\\question-answering-using-llm\\\\data\\\\Stored_Procedures.pdf'}),\n",
       " Document(page_content='Example- Find the total count of the country. We can pass the IN and OUT parameters.\\n\\ndelimiter && create procedure player_count_country(IN var varchar(30), OUT total_players int) begin select count(*) from players where country = var into total_players; end && delimiter ;\\n\\nCall the procedure -\\n\\ncall player_count_country(\"india\", @total_count);\\n\\nTo check the result before the output parameter, we have to use @.\\n\\nSelect @total_count as total_count ;\\n\\nResult-\\n\\ntotal_count\\n\\n4\\n\\nFlow of Control Statements IF syntax-\\n\\nIF expression THEN commands\\n\\n[ELSEIF expression THEN commands ....] [ELSE commands]\\n\\nEND IF;\\n\\nIf statements execute. - If no condition matches, the ELSE clause statement(s) executes. - Each statement consists of one or more SQL statements; an empty statement is not permitted.\\n\\nthe condition evaluates to true, the corresponding THEN or ELSEIF clause', metadata={'source': 'D:\\\\question-answering-using-llm\\\\data\\\\Stored_Procedures.pdf'}),\n",
       " Document(page_content='Example- In the following example, we pass user_id through the IN parameter to get the user name. Within the procedure, we have used IF ELSEIF and ELSE statements to get user name against multiple user ids. The user name will be stored in the INOUT parameter user_name.\\n\\ncreate table student_info(id int primary key NOT NULL, Name varchar(20) , Address varchar(50),Subject varchar(30));\\n\\ninsert into student_info(id,Name, Address, Subject) values(101,\"poonam\",\"pune\",\"History\"),(102,\"chikoo\",\"mumbai\",\"comp uter\"),(103,\"rahul\",\"nashik\",\"cpp\"),(104,\"Anjali\",\"pune\",\"java\"),( 105,\"shiv\",\"pune\",\"history\");\\n\\nselect * from student_info;\\n\\nExample-\\n\\nDELIMITER && CREATE PROCEDURE coursedetails_IFELSE(IN S_Subject Varchar(20), OUT S_Course varchar(50))\\n\\nBEGIN DECLARE Sub Varchar(20); SELECT Subject INTO SUB FROM Student_info WHERE S_Subject = Subject; IF Sub = \\'Computer\\' THEN SET S_Course = \\'B.Tech(CSE)\\'; ELSE SET S_Course = \\'Subject Not in the table \\'; END IF; END && DELIMITER ;\\n\\nCall procedure-', metadata={'source': 'D:\\\\question-answering-using-llm\\\\data\\\\Stored_Procedures.pdf'}),\n",
       " Document(page_content=\"CALL coursedetails_IFELSE('Computer', @S_Course);\\n\\nSelect @S_Course;\\n\\nResult -\\n\\n@S_Course\\n\\nB.Tech(CSE)\\n\\nCase Statement The CASE statement is used to create complex conditional constructs within stored programs. The CASE statement cannot have an ELSE NULL clause, and it is terminated with END CASE instead of END. Syntax-\\n\\nCASE case_value WHEN when_value THEN statement_list [WHEN when_value THEN statement_list] ... [ELSE statement_list] END CASE\\n\\nCase_value is an expression. - This value is compared to the when_value expression in each WHEN clause until one of them is equal. - When an equal when_value is found, statement_list executes. - If no when_value is equal, the ELSE clause statement_list executes, if there is one.\\n\\nthe corresponding THEN clause\\n\\nExample- Create table jobs having attributes ( JOB ID, JOB TITLE, MIN SALARY, MAX SALARY).\\n\\nCreate table jobs (JOB_ID int primary key NOT NULL, JOB_TITLE varchar(20), MIN_SALARY int, MAX_SALARY int );\\n\\nInsert values -\", metadata={'source': 'D:\\\\question-answering-using-llm\\\\data\\\\Stored_Procedures.pdf'}),\n",
       " Document(page_content='insert into jobs(JOB_ID,JOB_TITLE,MIN_SALARY,MAX_SALARY) values(10,\"Data engineer\",30000,500000),(11,\"Finance Manager\",4000,700000), (12,\"Finance Manager\",4000,700000),(13,\"Accounting Manager\",80000,600000),(14,\"Accountant\",5000,800000), (15,\"Programmer\",40000,900000),(16,\"Accounting Manager\",8000,600000),(17,\"Programmer\",4000,900000);\\n\\nselect * from jobs;\\n\\nDELIMITER $$ CREATE PROCEDURE `my_proc_CASE` (INOUT no_employees INT, IN salary INT) BEGIN CASE WHEN (salary>10000) THEN (SELECT COUNT(job_id) INTO no_employees FROM jobs WHERE min_salary>10000); WHEN (salary<10000) THEN (SELECT COUNT(job_id) INTO no_employees FROM jobs WHERE min_salary<10000); ELSE (SELECT COUNT(job_id) INTO no_employees FROM jobs WHERE min_salary=10000); END CASE; END$$\\n\\nCALL my_proc_CASE(@C,10001);\\n\\nSELECT @C;\\n\\nResult-\\n\\n@c\\n\\n3', metadata={'source': 'D:\\\\question-answering-using-llm\\\\data\\\\Stored_Procedures.pdf'}),\n",
       " Document(page_content='Check the following example of how to use it while in a stored procedure - WHILE Statement If the condition is true, the WHILE expression performs the statement. At the start of each loop, the condition is veriﬁed. A semicolon separates each statement (;). syntax-\\n\\n[begin_label:] WHILE search_condition DO\\n\\nstatement_list END WHILE [end_label]\\n\\nExample-\\n\\nDELIMITER $$ CREATE PROCEDURE my_proc_WHILE(IN n INT) BEGIN SET @sum = 0; SET @x = 1; WHILE @x<n DO SET @sum = @sum + @x; END IF; SET @x = @x + 1; END WHILE; END$$\\n\\nIF mod(@x, 2) <> 0 THEN\\n\\nCALL my_proc_WHILE(5);\\n\\nSELECT @sum;\\n\\nResult-\\n\\n@sum\\n\\n4\\n\\nExample-\\n\\nDELIMITER $$ DROP PROCEDURE IF EXISTS sp_nested_loop$$ CREATE PROCEDURE sp_nested_loop(IN i INT, IN j INT, OUT x INT, OUT y INT, INOUT z INT) BEGIN\\n\\nDECLARE a INTEGER DEFAULT 0; DECLARE b INTEGER DEFAULT 0; DECLARE c INTEGER DEFAULT 0; WHILE a < i DO WHILE b < j DO SET c = c + 1; SET b = b + 1; END WHILE; SET a = a + 1; SET b = 0; END WHILE; SET x = a, y = c; SET z = x + y + z;', metadata={'source': 'D:\\\\question-answering-using-llm\\\\data\\\\Stored_Procedures.pdf'}),\n",
       " Document(page_content='END $$ DELIMITER ;\\n\\nSET @z = 30; call sp_nested_loop(10, 20, @x, @y, @z); SELECT @x, @y, @z;\\n\\nResult-\\n\\n@x\\n\\n@y\\n\\n@z\\n\\n10\\n\\n200\\n\\n240\\n\\nREPEAT Statement The REPEAT statement executes the statement(s) repeatedly as long as the condition is true. The condition is checked every time at the end of the statements.\\n\\n[begin_label:] REPEAT statement_list UNTIL search_condition END REPEAT [end_label]\\n\\nstatement_list: List of one or more statements, each statement terminated by a semicolon(;). search_condition : An expression.\\n\\nExample-\\n\\nDELIMITER $$ CREATE PROCEDURE my_proc_REPEAT (IN n INT) BEGI SET @sum = 0; SET @x = 1; REPEAT IF mod(@x, 2) = 0 THEN SET @sum = @sum + @x; END IF; SET @x = @x + 1; UNTIL @x > n END REPEAT; END $$\\n\\ncall my_proc_REPEAT(5);\\n\\nSELECT @sum;\\n\\nResult -\\n\\n@sum\\n\\n6', metadata={'source': 'D:\\\\question-answering-using-llm\\\\data\\\\Stored_Procedures.pdf'}),\n",
       " Document(page_content='Cursors A database cursor is a control structure that enables traversal over the records in a database. Cursors are used by database programmers to process individual rows returned by database system queries. Cursors enable the manipulation of whole result sets at once. In this scenario, a cursor enables the rows in a result set to be processed sequentially. In SQL procedures, a cursor makes it possible to deﬁne a result set (a set of data rows) and perform complex logic on a row by row basis. By using the same mechanics, an SQL procedure can also deﬁne a result set and return it directly to the caller of the SQL procedure or to a client application. Cursors have these properties :\\n\\nAsensitive -The server may or may not make a copy of its result table. ● Read only-Not updatable ● Nonscrollable- Can be traversed only in one direction and cannot skip rows\\n\\nTo use cursors in MySQL procedures, you need to do the following :', metadata={'source': 'D:\\\\question-answering-using-llm\\\\data\\\\Stored_Procedures.pdf'}),\n",
       " Document(page_content='Declare a cursor. ● Open the cursor. ● Fetch the data into variables. ● Close the cursor when done.\\n\\nDeclare a cursor -\\n\\nDECLARE cursor_name CURSOR FOR select_statement\\n\\nOpen the cursor -\\n\\nOPEN cursor_name\\n\\nFetch the data into variables- This statement fetches the next row for the SELECT statement associated with the speciﬁed cursor (which must be open) and advances the cursor pointer. If a row exists, the fetched columns are stored in the named variables. The number of columns retrieved by the SELECT statement must match the number of output variables speciﬁed in the FETCH statement.\\n\\nFETCH [[NEXT] FROM] cursor_name INTO var_name [, var_name] ...\\n\\nClose the cursor when done.\\n\\nCLOSE cursor_name\\n\\nExample-', metadata={'source': 'D:\\\\question-answering-using-llm\\\\data\\\\Stored_Procedures.pdf'}),\n",
       " Document(page_content=\"DELIMITER $$ CREATE PROCEDURE my_procedure_cursors(INOUT return_val INT) BEGIN DECLARE a,b INT; DECLARE cur_1 CURSOR FOR SELECT max_salary FROM jobs; DECLARE CONTINUE HANDLER FOR NOT FOUND SET b = 1; OPEN cur_1;REPEAT FETCH cur_1 INTO a; UNTIL b = 1 END REPEAT; CLOSE cur_1; SET return_val = a; END; $$\\n\\nCall cursor-\\n\\nCALL my_procedure_cursors(@R);\\n\\nSELECT @R;\\n\\nResult-\\n\\n@R\\n\\n900000\\n\\nLOOP Statement - LOOP is used to create repeated execution of the statement list. Here is the syntax\\n\\n[begin_label:] LOOP statement_list END LOOP [end_label]\\n\\nExample-\\n\\ncreate table number (number int);\\n\\nIn the following procedure rows will be inserted in the 'number' table until x is less than num (number supplied by the user through IN parameter). A random number will be stored every time.\\n\\nDELIMITER $$ CREATE PROCEDURE my_proc_LOOP (IN num INT) BEGIN DECLARE x INT; SET x = 0; loop_label: LOOP INSERT INTO number VALUES (rand()); SET x = x + 1; IF x >= num THEN LEAVE loop_label; END IF; END LOOP; END$$\", metadata={'source': 'D:\\\\question-answering-using-llm\\\\data\\\\Stored_Procedures.pdf'}),\n",
       " Document(page_content=\"CALL my_proc_LOOP(3);\\n\\nselect * from number;\\n\\nResult -\\n\\nnumber\\n\\n1\\n\\n0\\n\\n0\\n\\nError handling\\n\\nWhenever an exception occurs in a stored procedure, it is very important to handle it by showing proper error messages. MySQL provides a Handler to handle the exception in the stored procedure.\\n\\nHow to declare a handler in a stored procedure: Handler Syntax:\\n\\nDECLARE handler_action HANDLER FOR condition_value ... statement\\n\\nThree types of handler_action:\\n\\nCONTINUE ● EXIT ● UNDO\\n\\nType of Condition Value: ● mysql_error_code ● sqlstate_value ● SQLWarning ● SQLException ● NotFound\\n\\nExample -\\n\\nDECLARE CONTINUE HANDLER FOR SQLEXCEPTION SELECT 'Error occurred'; DECLARE CONTINUE HANDLER FOR SQLEXCEPTION SET IsError=1; DECLARE EXIT HANDLER FOR SQLEXCEPTION SET IsError=1; DECLARE EXIT HANDLER FOR SQLSTATE '23000' SET IsError = 1;\\n\\nCreate a database for the demo.\\n\\nCREATE DATABASE Employee;\\n\\nuse Employee;\\n\\nCreate a sample EmployeeDetails table.\\n\\nCREATE TABLE Employee.tbl_EmployeeDetails (\\n\\nEmpID INTEGER\", metadata={'source': 'D:\\\\question-answering-using-llm\\\\data\\\\Stored_Procedures.pdf'}),\n",
       " Document(page_content=\",EmpName VARCHAR(50) ,EmailAddress VARCHAR(50) ,CONSTRAINT pk_tbl_EmployeeDetails_EmpID PRIMARY KEY (EmpID)\\n\\n);\\n\\nDELIMITER && CREATE PROCEDURE Employee.usp_InsertEmployeeDetails (\\n\\nInputEmpID INTEGER\\n\\n,InputEmpName VARCHAR(50) ,InputEmailAddress VARCHAR(50)\\n\\n) BEGIN\\n\\nDECLARE CONTINUE HANDLER FOR SQLEXCEPTION SELECT 'Error\\n\\noccurred';\\n\\nINSERT INTO Employee.tbl_EmployeeDetails (\\n\\nEmpID ,EmpName ,EmailAddress\\n\\n) VALUES (\\n\\nInputEmpID ,InputEmpName ,InputEmailAddress\\n\\n); SELECT *FROM Employee.tbl_EmployeeDetails;\\n\\nEND && DELIMITER ;\\n\\nCall procedure-\\n\\nCALL Employee.usp_InsertEmployeeDetails (1,'shiv','shiv@gmail.com');\\n\\nResult -\\n\\nEmpID\\n\\nEmpName\\n\\nEmailAddress\\n\\n1\\n\\nshiv\\n\\nshiv@gmail.com\\n\\nCall the stored procedure two times and it will execute successfully, but the second time it will throw a custom error message.\\n\\nCALL Employee.usp_InsertEmployeeDetails (1,'dnyanu','dnyanu@gmail.com');\\n\\nResult-\\n\\nError occured\\n\\nError occured\\n\\nNOW replace CONTINUE by EXIT in the above code -\", metadata={'source': 'D:\\\\question-answering-using-llm\\\\data\\\\Stored_Procedures.pdf'}),\n",
       " Document(page_content=\"DELIMITER // DROP PROCEDURE IF EXISTS usp_InsertEmployeeDetails; CREATE PROCEDURE Employee.usp_InsertEmployeeDetails (\\n\\nInputEmpID INTEGER\\n\\n,InputEmpName VARCHAR(50) ,InputEmailAddress VARCHAR(50)\\n\\n) BEGIN\\n\\nDECLARE EXIT HANDLER FOR SQLEXCEPTION SELECT 'Error occured';\\n\\nINSERT INTO Employee.tbl_EmployeeDetails (\\n\\nEmpID ,EmpName ,EmailAddress\\n\\n) VALUES (\\n\\nInputEmpID ,InputEmpName ,InputEmailAddress\\n\\n); SELECT *FROM Employee.tbl_EmployeeDetails;\\n\\nEND // DELIMITER ;\\n\\nCALL Employee.usp_InsertEmployeeDetails (1,'dnyanu','dnyanu@gmail.com');\\n\\nThe result is only an error message.\\n\\nThe best practice is to create an output parameter and store 1 if any error occurs. The application code has to check if this output parameter is NULL or 1. 1 = Error. NULL = No Error.\\n\\nDELIMITER // DROP PROCEDURE IF EXISTS usp_InsertEmployeeDetails; CREATE PROCEDURE Employee.usp_InsertEmployeeDetails\\n\\n(\\n\\nInputEmpID INTEGER\\n\\n,InputEmpName VARCHAR(50) ,InputEmailAddress VARCHAR(50) ,out IsError INTEGER\\n\\n) BEGIN\", metadata={'source': 'D:\\\\question-answering-using-llm\\\\data\\\\Stored_Procedures.pdf'}),\n",
       " Document(page_content=\"DECLARE CONTINUE HANDLER FOR SQLEXCEPTION SET IsError=1;\\n\\nINSERT INTO Employee.tbl_EmployeeDetails (\\n\\nEmpID ,EmpName ,EmailAddress\\n\\n) VALUES (\\n\\nInputEmpID ,InputEmpName ,InputEmailAddress\\n\\n); SELECT *FROM Employee.tbl_EmployeeDetails;\\n\\nEND // DELIMITER ;\\n\\nCALL Employee.usp_InsertEmployeeDetails (1,'shiv','shiv@gmail.com',@IsError);\\n\\nSELECT @IsError;\\n\\nResult-\\n\\n@IsError\\n\\n1\\n\\nUser deﬁned errors\\n\\nExample -\\n\\nDELIMITER // DROP PROCEDURE IF EXISTS sample;\\n\\nCREATE PROCEDURE sample(IN dividend INT, IN divisor INT, OUT\\n\\nres double) BEGIN\\n\\nDECLARE dividedByZero CONDITION FOR SQLSTATE '22012'; DECLARE CONTINUE HANDLER FOR dividedByZero RESIGNAL SET MESSAGE_TEXT = 'Error Denominator given is\\n\\nzero1';\\n\\nIF divisor = 0 THEN\\n\\nSIGNAL dividedByZero;\\n\\nELSE\\n\\nSET res:= dividend / divisor;\\n\\nEND IF; END// DELIMITER ;\\n\\nCALL sample(25, 0, @res);\\n\\nResult-\\n\\n17:58:30 Denominator given is zero1 0.000 sec\\n\\nCALL sample(25, 0, @res)\\n\\nError Code: 1644. Error\\n\\nTransactions\", metadata={'source': 'D:\\\\question-answering-using-llm\\\\data\\\\Stored_Procedures.pdf'}),\n",
       " Document(page_content='A transaction is a logical unit of work that contains one or more SQL statements. Transactions are atomic units of work that can be committed or rolled back. When a transaction makes multiple changes to the database, either all the changes succeed when the transaction is committed, or all the changes are undone when the transaction is rolled back. A transaction begins with the ﬁrst executable SQL statement. A transaction ends when it is committed or rolled back, either explicitly with a COMMIT or ROLLBACK statement or implicitly when a DDL (Data Deﬁnition Language (DDL) is used to manage table and index structure and CREATE, ALTER, RENAME, DROP and TRUNCATE statements are to name a few data deﬁnition elements) statement is issued.\\n\\nAtomicity: The atomicity aspect of transactions. Related MySQL features include :\\n\\nthe ACID model mainly involves InnoDB\\n\\nAutocommit setting. ● COMMIT statement. ● ROLLBACK statement. ● Operational data from the INFORMATION_SCHEMA tables.', metadata={'source': 'D:\\\\question-answering-using-llm\\\\data\\\\Stored_Procedures.pdf'}),\n",
       " Document(page_content='Consistency: The consistency aspect of the ACID model mainly involves internal InnoDB processing to protect data from crashes. Related MySQL features include :\\n\\nInnoDB doublewrite buﬀer ● InnoDB crash recovery\\n\\nIsolation: The isolation aspect of transactions, Related MySQL features include :\\n\\nin particular,\\n\\nthe isolation level\\n\\nthe ACID model mainly involves InnoDB that applies to each transaction.\\n\\nAutocommit setting. ● SET ISOLATION LEVEL statement. ● The low-level details of InnoDB locking. During performance tuning, you see\\n\\nthese details through INFORMATION_SCHEMA tables.\\n\\nDurability: The durability aspect of involves MySQL software features interacting with your particular hardware conﬁguration. Because of the many possibilities depending on the capabilities of your CPU, network, and storage devices, this aspect is the most complicated to provide concrete guidelines for.\\n\\nthe ACID model\\n\\nBy default, MySQL runs with autocommit mode enabled.', metadata={'source': 'D:\\\\question-answering-using-llm\\\\data\\\\Stored_Procedures.pdf'}),\n",
       " Document(page_content='General Procedures involved in Transaction Begin a transaction by issuing the SQL command BEGIN WORK or START TRANSACTION. Run all your SQL statements. Check whether everything is executed according to your requirements. If yes, then issue the COMMIT command, otherwise, issue a ROLLBACK command to revert everything to the previous state.\\n\\nAUTOCOMMIT\\n\\nMySQL automatically commits statements that are not part of a transaction. The results of any UPDATE, DELETE, or INSERT statement not preceded with a BEGIN or START TRANSACTION will immediately be visible to all connections. The AUTOCOMMIT variable is set to true by default.\\n\\nTo make autocommit false, SET AUTOCOMMIT = false; or SET AUTOCOMMIT=0;\\n\\nTo make autocommit true: SET AUTOCOMMIT = true; or SET AUTOCOMMIT=1;\\n\\nTo view AUTOCOMMIT status SELECT @@autocommit;\\n\\nCOMMIT', metadata={'source': 'D:\\\\question-answering-using-llm\\\\data\\\\Stored_Procedures.pdf'}),\n",
       " Document(page_content='If AUTOCOMMIT is set to false and the transaction is not committed, the changes will be visible only for the current connection. After COMMIT statement commits the changes to the table, the result will be visible for all connections.\\n\\nBefore making autocommit false, one row added in a new table. INSERT INTO testTable VALUES (1); Making autocommit = false SET autocommit=0;\\n\\nINSERT INTO testTable VALUES (2), (3); SELECT * FROM testTable;\\n\\ntId\\n\\n1\\n\\n2\\n\\n3\\n\\nSELECT * FROM testTable;\\n\\ntId\\n\\n1\\n\\nRow inserted before autocommit=false only visible here\\n\\nCOMMIT; SELECT * FROM testTable;\\n\\ntId\\n\\n1\\n\\n2\\n\\n3\\n\\nNow all three rows are visible here.\\n\\nROLLBACK\\n\\nIf anything went wrong in your query execution, ROLLBACK is used to revert the changes.\\n\\nBefore making autocommit false, one row added in a new table INSERT INTO testTable VALUES (1);\\n\\nMaking autocommit = false SET autocommit = 0;\\n\\nINSERT INTO testTable VALUES (2), (3); SELECT * FROM testTable;\\n\\ntId\\n\\n1\\n\\n2\\n\\n3', metadata={'source': 'D:\\\\question-answering-using-llm\\\\data\\\\Stored_Procedures.pdf'}),\n",
       " Document(page_content='Now we are executing ROLLBACK. Rollback is executed now. ROLLBACK;\\n\\nSELECT * FROM testTable;\\n\\ntId\\n\\n1\\n\\nRollback removed all rows that were not committed. Once COMMIT is executed, then ROLLBACK will not cause anything. If AUTOCOMMIT is set to true, then COMMIT and ROLLBACK are useless.\\n\\nStored functions\\n\\nA stored function is similar in many ways to a stored procedure. Collectively, the two are referred to as stored routines. They are diﬀerent in several ways, including the way in which they are invoked. A stored procedure is invoked with a CALL statement, and a stored function is invoked with a function call, which can replace an argument of an SQL statement. The following is an example of a function deﬁnition, followed by an example of a call to that function: Syntax -\\n\\nDELIMITER $$\\n\\nCREATE FUNCTION function_name(\\n\\nparam1, param2,...\\n\\n) RETURNS datatype [NOT] DETERMINISTIC BEGIN\\n\\n-- statements\\n\\nEND $$\\n\\nDELIMITER ;', metadata={'source': 'D:\\\\question-answering-using-llm\\\\data\\\\Stored_Procedures.pdf'}),\n",
       " Document(page_content='You can specify the name of the stored function that you want to create after CREATE FUNCTION. All the parameters of the stored function are listed inside the parentheses followed by the function name. In the RETURNS statement, you specify the data type of the return value, which can be any valid data type. Use the DETERMINISTIC keyword to specify if a function is deterministic or not. A deterministic function always returns the same result the same input parameters, whereas a non-deterministic function returns diﬀerent results for the same input parameters. If you don’t use DETERMINISTIC or NOT DETERMINISTIC, MySQL uses the NOT DETERMINISTIC option by default. Write the code in the body of the stored function in the BEGIN END block. Inside the body section, you need to specify at least one RETURN statement. The RETURN statement returns a value to the calling programs. Whenever the RETURN statement the stored function is terminated immediately.\\n\\nis reached,\\n\\nthe execution of\\n\\nfor', metadata={'source': 'D:\\\\question-answering-using-llm\\\\data\\\\Stored_Procedures.pdf'}),\n",
       " Document(page_content='Example - Follow the following steps- Select a database-\\n\\nuse employee ;\\n\\nshow tables;\\n\\nCreate a table -\\n\\nCREATE TABLE Employee.tbl_EmployeeDetails (\\n\\nEmpID INTEGER\\n\\n,EmpName VARCHAR(50) ,EmailAddress VARCHAR(50) ,Age int ,occupation varchar(50) ,CONSTRAINT pk_tbl_EmployeeDetails_EmpID PRIMARY KEY (EmpID)\\n\\n);\\n\\nInsert values into the table -\\n\\ninsert into tbl_employeedetails(EmpID,EmpName,EmailAddress,age) values(2,\"Dnyanu\",\"dnyanu@gmail.com\",28),(3,\"Naman\",\"naman@gmail.c om\",26),(4,\"Prachi\",\"prachi@gmail.com\",28), (5,\"Deepali\",\"deepali@gmail.com\",38),(6,\"Raj\",\"raj@gmail.com\",20), (7,\"Rutu\",\"rutu@gmail.com\",30);\\n\\nCreate function-\\n\\nDELIMITER $$ DROP FUNCTION IF EXISTS Occupation; CREATE FUNCTION Occupation(\\n\\nage int\\n\\n) RETURNS VARCHAR(60) DETERMINISTIC BEGIN\\n\\nDECLARE occupation VARCHAR(70); IF age > 35 THEN\\n\\nSET occupation = \\'Principal data Scientist\\';\\n\\nELSEIF (age <= 35 AND\\n\\nage >= 30) THEN\\n\\nSET occupation = \\'Sr.data Scientist\\';\\n\\nELSEIF age < 30 THEN', metadata={'source': 'D:\\\\question-answering-using-llm\\\\data\\\\Stored_Procedures.pdf'}),\n",
       " Document(page_content=\"SET occupation = 'Jr.data Scientist';\\n\\nEND IF; -- return the customer occupation RETURN (occupation);\\n\\nEND$$ DELIMITER ;\\n\\nSHOW FUNCTION STATUS WHERE db = 'employee';\\n\\nUse function in sql query.\\n\\nSELECT Empname, age, occupation(age) FROM tbl_employeedetails ORDER BY age;\\n\\nResult-\\n\\nEmpname\\n\\nage\\n\\nOccupation (age)\\n\\nRaj\\n\\n20\\n\\nJr.data Scientist\\n\\nNaman\\n\\n26\\n\\nJr.data Scientist\\n\\nDnyanu\\n\\n28\\n\\nJr.data Scientist\\n\\nPrachi\\n\\n28\\n\\nJr.data Scientist\\n\\nRutu\\n\\n30\\n\\nSr.data Scientist\\n\\nshiv\\n\\n36\\n\\nPrincipal data Scientist\\n\\nDeepali\\n\\n38\\n\\nPrincipal data Scientist\\n\\nUse function in stored procedure-\\n\\nStored Function Call In Procedure DELIMITER $$ CREATE PROCEDURE EmployeeDetail() BEGIN\\n\\nSELECT Empname, age, Occupation(age) FROM tbl_employeedetails\\n\\nORDER BY age; END$$ DELIMITER ;\\n\\nCall the stored procedure-\\n\\nCALL EmployeeDetail();\\n\\nResult-\\n\\nEmpname\\n\\nage\\n\\nOccupation (age)\\n\\nRaj\\n\\n20\\n\\nJr.data Scientist\\n\\nNaman\\n\\n26\\n\\nJr.data Scientist\\n\\nDnyanu\\n\\n28\\n\\nJr.data Scientist\\n\\nPrachi\\n\\n28\\n\\nJr.data Scientist\\n\\nRutu\\n\\n30\\n\\nSr.data Scientist\", metadata={'source': 'D:\\\\question-answering-using-llm\\\\data\\\\Stored_Procedures.pdf'}),\n",
       " Document(page_content='shiv\\n\\n36\\n\\nPrincipal data Scientist\\n\\nDeepali\\n\\n38\\n\\nPrincipal data Scientist', metadata={'source': 'D:\\\\question-answering-using-llm\\\\data\\\\Stored_Procedures.pdf'})]"
      ]
     },
     "execution_count": 10,
     "metadata": {},
     "output_type": "execute_result"
    }
   ],
   "source": [
    "documents"
   ]
  },
  {
   "cell_type": "code",
   "execution_count": 15,
   "metadata": {},
   "outputs": [
    {
     "name": "stdout",
     "output_type": "stream",
     "text": [
      "\n"
     ]
    }
   ],
   "source": [
    "\n",
    "# importing required modules\n",
    "import PyPDF2\n",
    " \n",
    "# creating a pdf file object\n",
    "pdfFileObj = open('D:/question-answering-using-llm/data/data_science.pdf', 'rb')\n",
    " \n",
    "# creating a pdf reader object\n",
    "pdfReader = PyPDF2.PdfReader(pdfFileObj)\n",
    " \n",
    "# printing number of pages in pdf file\n",
    "# print(len(pdfReader.pages))\n",
    " \n",
    "# creating a page object\n",
    "pageObj = pdfReader.pages[0]\n",
    " \n",
    "# extracting text from page\n",
    "print(pageObj.extract_text())\n",
    " \n",
    "# closing the pdf file object\n",
    "# pdfFileObj.close()"
   ]
  },
  {
   "cell_type": "code",
   "execution_count": null,
   "metadata": {},
   "outputs": [],
   "source": []
  }
 ],
 "metadata": {
  "kernelspec": {
   "display_name": "Python 3",
   "language": "python",
   "name": "python3"
  },
  "language_info": {
   "codemirror_mode": {
    "name": "ipython",
    "version": 3
   },
   "file_extension": ".py",
   "mimetype": "text/x-python",
   "name": "python",
   "nbconvert_exporter": "python",
   "pygments_lexer": "ipython3",
   "version": "3.10.0"
  },
  "orig_nbformat": 4
 },
 "nbformat": 4,
 "nbformat_minor": 2
}
